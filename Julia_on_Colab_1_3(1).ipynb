{
  "nbformat": 4,
  "nbformat_minor": 0,
  "metadata": {
    "colab": {
      "name": "Julia on Colab_1.3.ipynb",
      "provenance": [],
      "collapsed_sections": []
    },
    "kernelspec": {
      "name": "julia-1.3",
      "display_name": "Julia 1.3"
    },
    "accelerator": "GPU"
  },
  "cells": [
    {
      "cell_type": "code",
      "metadata": {
        "id": "oMSuTc3pDlHv",
        "colab_type": "code",
        "colab": {
          "base_uri": "https://localhost:8080/",
          "height": 957
        },
        "outputId": "f44fc375-4036-4677-b5e1-62b80770fbcc"
      },
      "source": [
        "!wget https://developer.nvidia.com/compute/cuda/9.0/Prod/local_installers/cuda-repo-ubuntu1604-9-0-local_9.0.176-1_amd64-deb\n",
        "!dpkg -i cuda-repo-ubuntu1604-9-0-local_9.0.176-1_amd64-deb\n",
        "!apt-key add /var/cuda-repo-9-0-local/7fa2af80.pub\n",
        "!apt update -q\n",
        "!apt install cuda gcc-6 g++-6 -y -q\n",
        "!ln -s /usr/bin/gcc-6 /usr/local/cuda/bin/gcc\n",
        "!ln -s /usr/bin/g++-6 /usr/local/cuda/bin/g++"
      ],
      "execution_count": 3,
      "outputs": [
        {
          "output_type": "stream",
          "text": [
            "--2020-03-27 09:56:10--  https://developer.nvidia.com/compute/cuda/9.0/Prod/local_installers/cuda-repo-ubuntu1604-9-0-local_9.0.176-1_amd64-deb\n",
            "Resolving developer.nvidia.com (developer.nvidia.com)... 152.199.0.24\n",
            "Connecting to developer.nvidia.com (developer.nvidia.com)|152.199.0.24|:443... connected.\n",
            "HTTP request sent, awaiting response... 302 Found\n",
            "Location: https://developer.download.nvidia.com/compute/cuda/9.0/secure/Prod/local_installers/cuda-repo-ubuntu1604-9-0-local_9.0.176-1_amd64.deb?kgtaodGKwgBjFXlYiGuWlVAY9yvtiVFSx0KHtw-u6g1BmEzVqEQfqBtBIuPNZ-hrC1XTdgWOce0RN5OPygMuarWiUJPKuxKA92tm79rUeMoReSl_uY6gDNjxH8ocfJbfyprPYuzcT_ApeBV31_4PTLAKGi9zPHUzh9dCa0nK96JRds6rZGCO3Bo7i9Qf1DNgAE19yZBTQzm4gNjB5CrK [following]\n",
            "--2020-03-27 09:56:10--  https://developer.download.nvidia.com/compute/cuda/9.0/secure/Prod/local_installers/cuda-repo-ubuntu1604-9-0-local_9.0.176-1_amd64.deb?kgtaodGKwgBjFXlYiGuWlVAY9yvtiVFSx0KHtw-u6g1BmEzVqEQfqBtBIuPNZ-hrC1XTdgWOce0RN5OPygMuarWiUJPKuxKA92tm79rUeMoReSl_uY6gDNjxH8ocfJbfyprPYuzcT_ApeBV31_4PTLAKGi9zPHUzh9dCa0nK96JRds6rZGCO3Bo7i9Qf1DNgAE19yZBTQzm4gNjB5CrK\n",
            "Resolving developer.download.nvidia.com (developer.download.nvidia.com)... 152.195.19.142\n",
            "Connecting to developer.download.nvidia.com (developer.download.nvidia.com)|152.195.19.142|:443... connected.\n",
            "HTTP request sent, awaiting response... 200 OK\n",
            "Length: 1212738714 (1.1G) [application/x-deb]\n",
            "Saving to: ‘cuda-repo-ubuntu1604-9-0-local_9.0.176-1_amd64-deb’\n",
            "\n",
            "cuda-repo-ubuntu160 100%[===================>]   1.13G   208MB/s    in 5.5s    \n",
            "\n",
            "2020-03-27 09:56:16 (210 MB/s) - ‘cuda-repo-ubuntu1604-9-0-local_9.0.176-1_amd64-deb’ saved [1212738714/1212738714]\n",
            "\n",
            "Selecting previously unselected package cuda-repo-ubuntu1604-9-0-local.\n",
            "(Reading database ... 157985 files and directories currently installed.)\n",
            "Preparing to unpack cuda-repo-ubuntu1604-9-0-local_9.0.176-1_amd64-deb ...\n",
            "Unpacking cuda-repo-ubuntu1604-9-0-local (9.0.176-1) ...\n",
            "Setting up cuda-repo-ubuntu1604-9-0-local (9.0.176-1) ...\n",
            "OK\n",
            "Get:1 file:/var/cuda-repo-9-0-local  InRelease\n",
            "Ign:1 file:/var/cuda-repo-9-0-local  InRelease\n",
            "Get:2 file:/var/cuda-repo-9-0-local  Release [574 B]\n",
            "Get:2 file:/var/cuda-repo-9-0-local  Release [574 B]\n",
            "Get:3 file:/var/cuda-repo-9-0-local  Release.gpg [819 B]\n",
            "Get:3 file:/var/cuda-repo-9-0-local  Release.gpg [819 B]\n",
            "Hit:4 https://cloud.r-project.org/bin/linux/ubuntu bionic-cran35/ InRelease\n",
            "Ign:5 https://developer.download.nvidia.com/compute/cuda/repos/ubuntu1804/x86_64  InRelease\n",
            "Ign:6 https://developer.download.nvidia.com/compute/machine-learning/repos/ubuntu1804/x86_64  InRelease\n",
            "Hit:7 https://developer.download.nvidia.com/compute/cuda/repos/ubuntu1804/x86_64  Release\n",
            "Hit:8 https://developer.download.nvidia.com/compute/machine-learning/repos/ubuntu1804/x86_64  Release\n",
            "Get:9 file:/var/cuda-repo-9-0-local  Packages [15.4 kB]\n",
            "Hit:10 http://ppa.launchpad.net/graphics-drivers/ppa/ubuntu bionic InRelease\n",
            "Hit:11 http://security.ubuntu.com/ubuntu bionic-security InRelease\n",
            "Hit:12 http://archive.ubuntu.com/ubuntu bionic InRelease\n",
            "Hit:14 http://archive.ubuntu.com/ubuntu bionic-updates InRelease\n",
            "Hit:15 http://ppa.launchpad.net/marutter/c2d4u3.5/ubuntu bionic InRelease\n",
            "Hit:17 http://archive.ubuntu.com/ubuntu bionic-backports InRelease\n",
            "Reading package lists...\n",
            "Building dependency tree...\n",
            "Reading state information...\n",
            "35 packages can be upgraded. Run 'apt list --upgradable' to see them.\n",
            "Reading package lists...\n",
            "Building dependency tree...\n",
            "Reading state information...\n",
            "g++-6 is already the newest version (6.5.0-2ubuntu1~18.04).\n",
            "gcc-6 is already the newest version (6.5.0-2ubuntu1~18.04).\n",
            "cuda is already the newest version (10.2.89-1).\n",
            "0 upgraded, 0 newly installed, 0 to remove and 35 not upgraded.\n",
            "ln: failed to create symbolic link '/usr/local/cuda/bin/gcc': File exists\n",
            "ln: failed to create symbolic link '/usr/local/cuda/bin/g++': File exists\n"
          ],
          "name": "stdout"
        }
      ]
    },
    {
      "cell_type": "code",
      "metadata": {
        "id": "9FZjZf15ZSq2",
        "colab_type": "code",
        "colab": {
          "base_uri": "https://localhost:8080/",
          "height": 920
        },
        "outputId": "c2d9a46c-d138-4551-f8ff-840afef9a22c"
      },
      "source": [
        "!curl -sSL \"https://julialang-s3.julialang.org/bin/linux/x64/1.3/julia-1.3.0-linux-x86_64.tar.gz\" -o julia.tar.gz\n",
        "!tar -xzf julia.tar.gz -C /usr --strip-components 1\n",
        "!rm -rf julia.tar.gz*\n",
        "!julia -e 'using Pkg; pkg\"add IJulia; precompile\"'"
      ],
      "execution_count": 7,
      "outputs": [
        {
          "output_type": "stream",
          "text": [
            "   Cloning default registries into `~/.julia`\n",
            "   Cloning registry from \"https://github.com/JuliaRegistries/General.git\"\n",
            "\u001b[2K\u001b[?25h     Added registry `General` to `~/.julia/registries/General`\n",
            " Resolving package versions...\n",
            " Installed VersionParsing ── v1.2.0\n",
            " Installed ZeroMQ_jll ────── v4.3.2+1\n",
            " Installed SoftGlobalScope ─ v1.0.10\n",
            " Installed IJulia ────────── v1.21.1\n",
            " Installed MbedTLS ───────── v0.7.0\n",
            " Installed Conda ─────────── v1.4.1\n",
            " Installed BinaryProvider ── v0.5.8\n",
            " Installed JSON ──────────── v0.21.0\n",
            " Installed Parsers ───────── v1.0.0\n",
            " Installed ZMQ ───────────── v1.2.0\n",
            "  Updating `~/.julia/environments/v1.3/Project.toml`\n",
            "  [7073ff75] + IJulia v1.21.1\n",
            "  Updating `~/.julia/environments/v1.3/Manifest.toml`\n",
            "  [b99e7846] + BinaryProvider v0.5.8\n",
            "  [8f4d0f93] + Conda v1.4.1\n",
            "  [7073ff75] + IJulia v1.21.1\n",
            "  [682c06a0] + JSON v0.21.0\n",
            "  [739be429] + MbedTLS v0.7.0\n",
            "  [69de0a69] + Parsers v1.0.0\n",
            "  [b85f4697] + SoftGlobalScope v1.0.10\n",
            "  [81def892] + VersionParsing v1.2.0\n",
            "  [c2297ded] + ZMQ v1.2.0\n",
            "  [8f1865be] + ZeroMQ_jll v4.3.2+1\n",
            "  [2a0f44e3] + Base64 \n",
            "  [ade2ca70] + Dates \n",
            "  [8ba89e20] + Distributed \n",
            "  [7b1f6079] + FileWatching \n",
            "  [b77e0a4c] + InteractiveUtils \n",
            "  [76f85450] + LibGit2 \n",
            "  [8f399da3] + Libdl \n",
            "  [56ddb016] + Logging \n",
            "  [d6f4376e] + Markdown \n",
            "  [a63ad114] + Mmap \n",
            "  [44cfe95a] + Pkg \n",
            "  [de0858da] + Printf \n",
            "  [3fa0cd96] + REPL \n",
            "  [9a3f8284] + Random \n",
            "  [ea8e919c] + SHA \n",
            "  [9e88b42a] + Serialization \n",
            "  [6462fe0b] + Sockets \n",
            "  [8dfed614] + Test \n",
            "  [cf7118a7] + UUIDs \n",
            "  [4ec0a83e] + Unicode \n",
            "  Building Conda ──→ `~/.julia/packages/Conda/3rPhK/deps/build.log`\n",
            "  Building MbedTLS → `~/.julia/packages/MbedTLS/a1JFn/deps/build.log`\n",
            "  Building IJulia ─→ `~/.julia/packages/IJulia/yLI42/deps/build.log`\n",
            "Precompiling project...\n",
            "Precompiling IJulia\n"
          ],
          "name": "stdout"
        }
      ]
    },
    {
      "cell_type": "code",
      "metadata": {
        "id": "iik4opc9bLvC",
        "colab_type": "code",
        "colab": {
          "base_uri": "https://localhost:8080/",
          "height": 52
        },
        "outputId": "15749429-5312-463a-e2a5-7a89f72066ca"
      },
      "source": [
        "[1 2 3]"
      ],
      "execution_count": 1,
      "outputs": [
        {
          "output_type": "execute_result",
          "data": {
            "text/plain": [
              "1×3 Array{Int64,2}:\n",
              " 1  2  3"
            ]
          },
          "metadata": {
            "tags": []
          },
          "execution_count": 1
        }
      ]
    },
    {
      "cell_type": "code",
      "metadata": {
        "id": "2u4_2dh3k6rE",
        "colab_type": "code",
        "colab": {
          "base_uri": "https://localhost:8080/",
          "height": 330
        },
        "outputId": "23e8937b-9702-4cb4-c39a-1948acaa8c14"
      },
      "source": [
        "]add ImageMagick"
      ],
      "execution_count": 12,
      "outputs": [
        {
          "output_type": "stream",
          "text": [
            "\u001b[32m\u001b[1m Resolving\u001b[22m\u001b[39m package versions...\n",
            "\u001b[32m\u001b[1m Installed\u001b[22m\u001b[39m Zlib_jll ──────── v1.2.11+8\n",
            "\u001b[32m\u001b[1m Installed\u001b[22m\u001b[39m ImageMagick_jll ─ v6.9.10-12+0\n",
            "\u001b[32m\u001b[1m Installed\u001b[22m\u001b[39m libpng_jll ────── v1.6.37+2\n",
            "\u001b[32m\u001b[1m Installed\u001b[22m\u001b[39m JpegTurbo_jll ─── v2.0.1+0\n",
            "\u001b[32m\u001b[1m Installed\u001b[22m\u001b[39m Libtiff_jll ───── v4.0.10+0\n",
            "\u001b[32m\u001b[1m Installed\u001b[22m\u001b[39m Zstd_jll ──────── v1.4.4+0\n",
            "\u001b[32m\u001b[1m Installed\u001b[22m\u001b[39m ImageMagick ───── v1.1.3\n",
            "\u001b[32m\u001b[1m  Updating\u001b[22m\u001b[39m `~/.julia/environments/v1.3/Project.toml`\n",
            " \u001b[90m [6218d12a]\u001b[39m\u001b[92m + ImageMagick v1.1.3\u001b[39m\n",
            "\u001b[32m\u001b[1m  Updating\u001b[22m\u001b[39m `~/.julia/environments/v1.3/Manifest.toml`\n",
            " \u001b[90m [6218d12a]\u001b[39m\u001b[92m + ImageMagick v1.1.3\u001b[39m\n",
            " \u001b[90m [c73af94c]\u001b[39m\u001b[92m + ImageMagick_jll v6.9.10-12+0\u001b[39m\n",
            " \u001b[90m [aacddb02]\u001b[39m\u001b[92m + JpegTurbo_jll v2.0.1+0\u001b[39m\n",
            " \u001b[90m [89763e89]\u001b[39m\u001b[92m + Libtiff_jll v4.0.10+0\u001b[39m\n",
            " \u001b[90m [83775a58]\u001b[39m\u001b[92m + Zlib_jll v1.2.11+8\u001b[39m\n",
            " \u001b[90m [3161d3a3]\u001b[39m\u001b[92m + Zstd_jll v1.4.4+0\u001b[39m\n",
            " \u001b[90m [b53b4c65]\u001b[39m\u001b[92m + libpng_jll v1.6.37+2\u001b[39m\n"
          ],
          "name": "stdout"
        }
      ]
    },
    {
      "cell_type": "code",
      "metadata": {
        "id": "GBCzKDsudKv5",
        "colab_type": "code",
        "colab": {
          "base_uri": "https://localhost:8080/",
          "height": 121
        },
        "outputId": "e66696c4-1eaf-4523-c05c-334b92662e33"
      },
      "source": [
        "\n",
        "using Images, Colors, ColorSchemes"
      ],
      "execution_count": 9,
      "outputs": [
        {
          "output_type": "stream",
          "text": [
            "┌ Info: Precompiling Images [916415d5-f1e6-5110-898d-aaa5f9f070e0]\n",
            "└ @ Base loading.jl:1273\n",
            "WARNING: ImageQualityIndexes.psnr is deprecated, use assess_psnr instead.\n",
            "  likely near /root/.julia/packages/Images/RUVAg/src/Images.jl:60\n",
            "┌ Info: Precompiling ColorSchemes [35d6a980-a343-548e-a6ea-1d62b119f2f4]\n",
            "└ @ Base loading.jl:1273\n"
          ],
          "name": "stderr"
        }
      ]
    },
    {
      "cell_type": "code",
      "metadata": {
        "id": "0TA8VeG4fgEN",
        "colab_type": "code",
        "colab": {
          "base_uri": "https://localhost:8080/",
          "height": 34
        },
        "outputId": "083d4954-eac6-41a5-eb25-a989ea3359e3"
      },
      "source": [
        "function steps_count(c::Complex, max_steps)\n",
        "  z = Complex(0.0, 0.0)\n",
        "  for i =1:max_steps\n",
        "    z = z*z + c\n",
        "    if abs2(z) >= 4\n",
        "      return i\n",
        "    end\n",
        "  end\n",
        "  return max_steps+1\n",
        "end\n"
      ],
      "execution_count": 50,
      "outputs": [
        {
          "output_type": "execute_result",
          "data": {
            "text/plain": [
              "steps_count (generic function with 1 method)"
            ]
          },
          "metadata": {
            "tags": []
          },
          "execution_count": 50
        }
      ]
    },
    {
      "cell_type": "code",
      "metadata": {
        "id": "zipwdqTgreNg",
        "colab_type": "code",
        "colab": {
          "base_uri": "https://localhost:8080/",
          "height": 34
        },
        "outputId": "b85e2f40-be8d-4cc4-f5a3-cdd58cc038bb"
      },
      "source": [
        "function get_color(colorscheme, step, max_steps)\n",
        "  if step == max_steps+1\n",
        "    return[0.0 ,0.0, 0.0]\n",
        "  end\n",
        "  color = get(colorscheme, step, (1, max_steps))\n",
        "  return[color.r, color.g, color.b]\n",
        "end\n",
        "\n",
        "function get_cmap(colorscheme, max_steps)\n",
        "  colors = zeros(Float64, (3, max_steps+1))\n",
        "  for i=1:max_steps\n",
        "    colors[:,i] = get_color(colorscheme, i, max_steps)\n",
        "  end\n",
        "  colors[:,max_steps+1] = [0.0, 0.0, 0.0]\n",
        "  return colors\n",
        "end"
      ],
      "execution_count": 64,
      "outputs": [
        {
          "output_type": "execute_result",
          "data": {
            "text/plain": [
              "get_cmap (generic function with 1 method)"
            ]
          },
          "metadata": {
            "tags": []
          },
          "execution_count": 64
        }
      ]
    },
    {
      "cell_type": "code",
      "metadata": {
        "id": "ZyULsA9cgaOX",
        "colab_type": "code",
        "colab": {
          "base_uri": "https://localhost:8080/",
          "height": 34
        },
        "outputId": "237a6f4f-8556-4d1d-a236-10784741d87d"
      },
      "source": [
        "function mandelbrot_plot()\n",
        "  width = 1000\n",
        "  height = 600\n",
        "\n",
        "  max_steps = 50\n",
        "  steps = zeros(Int, (height, width))\n",
        "\n",
        "  \n",
        "\n",
        "  #println(\"cr: $cr_min - $cr_max\")\n",
        "  #println(\"cr: $cim_min - $cim_max\")\n",
        "\n",
        "  image = zeros(Float64, (3, height, width))\n",
        "  complexes = zeros(Complex, (height, width))\n",
        "  steps = zeros(Int, (height, width))\n",
        "  colorscheme = ColorSchemes.inferno\n",
        "  colorscheme_sized = get_cmap(colorscheme, max_steps)\n",
        "  x, y = 1, 1\n",
        "  cr_min = -2+0.07\n",
        "  cr_max = 2\n",
        "\n",
        "  cim_min = -1.2\n",
        "  \n",
        "  range = cr_max - cr_min\n",
        "  dot_size = range/width\n",
        "  cim_max = cim_min + height*dot_size\n",
        "  for cim = cim_min:dot_size:cim_max-dot_size\n",
        "    x = 1\n",
        "    for cr=cr_min:dot_size:cr_max-dot_size\n",
        "      complexes[y,x] = Complex(cr, cim)\n",
        "      x += 1\n",
        "    end\n",
        "    y += 1\n",
        "  end\n",
        "  \n",
        "  steps = steps_count.(complexes, max_steps)\n",
        "\n",
        "  image = colorscheme_sized[:, steps]\n",
        "  save(\"test.png\" ,colorview(RGB,image))\n",
        "end  "
      ],
      "execution_count": 103,
      "outputs": [
        {
          "output_type": "execute_result",
          "data": {
            "text/plain": [
              "mandelbrot_plot (generic function with 1 method)"
            ]
          },
          "metadata": {
            "tags": []
          },
          "execution_count": 103
        }
      ]
    },
    {
      "cell_type": "code",
      "metadata": {
        "id": "M0rSAQG-jtBf",
        "colab_type": "code",
        "colab": {}
      },
      "source": [
        "mandelbrot_plot()\n"
      ],
      "execution_count": 0,
      "outputs": []
    },
    {
      "cell_type": "code",
      "metadata": {
        "id": "Ada34bgIj3mu",
        "colab_type": "code",
        "colab": {}
      },
      "source": [
        "using BenchmarkTools"
      ],
      "execution_count": 0,
      "outputs": []
    },
    {
      "cell_type": "code",
      "metadata": {
        "id": "7RVZcALFylsg",
        "colab_type": "code",
        "colab": {
          "base_uri": "https://localhost:8080/",
          "height": 208
        },
        "outputId": "39ebc525-810b-4d44-b24d-29d263ae804c"
      },
      "source": [
        "@benchmark mandelbrot_plot()"
      ],
      "execution_count": 81,
      "outputs": [
        {
          "output_type": "execute_result",
          "data": {
            "text/plain": [
              "BenchmarkTools.Trial: \n",
              "  memory estimate:  82.44 MiB\n",
              "  allocs estimate:  1201366\n",
              "  --------------\n",
              "  minimum time:     87.654 ms (11.07% GC)\n",
              "  median time:      102.290 ms (22.72% GC)\n",
              "  mean time:        100.317 ms (22.42% GC)\n",
              "  maximum time:     118.535 ms (31.62% GC)\n",
              "  --------------\n",
              "  samples:          50\n",
              "  evals/sample:     1"
            ]
          },
          "metadata": {
            "tags": []
          },
          "execution_count": 81
        }
      ]
    },
    {
      "cell_type": "code",
      "metadata": {
        "id": "2i0MU53gyxHF",
        "colab_type": "code",
        "colab": {
          "base_uri": "https://localhost:8080/",
          "height": 625
        },
        "outputId": "b3c925a1-cd29-456b-a0ea-218fb939081b"
      },
      "source": [
        "]add CuArrays, GPUArrays"
      ],
      "execution_count": 91,
      "outputs": [
        {
          "output_type": "stream",
          "text": [
            "\u001b[32m\u001b[1m Resolving\u001b[22m\u001b[39m package versions...\n",
            "\u001b[32m\u001b[1m Installed\u001b[22m\u001b[39m TerminalMenus ─ v0.1.0\n",
            "\u001b[32m\u001b[1m Installed\u001b[22m\u001b[39m NNlib ───────── v0.6.6\n",
            "\u001b[32m\u001b[1m Installed\u001b[22m\u001b[39m Compat ──────── v2.2.0\n",
            "\u001b[32m\u001b[1m Installed\u001b[22m\u001b[39m TimerOutputs ── v0.5.3\n",
            "\u001b[32m\u001b[1m Installed\u001b[22m\u001b[39m Cthulhu ─────── v1.0.0\n",
            "\u001b[32m\u001b[1m Installed\u001b[22m\u001b[39m LLVM ────────── v1.3.4\n",
            "\u001b[32m\u001b[1m Installed\u001b[22m\u001b[39m GPUArrays ───── v3.1.0\n",
            "\u001b[32m\u001b[1m Installed\u001b[22m\u001b[39m CuArrays ────── v2.0.1\n",
            "\u001b[32m\u001b[1m Installed\u001b[22m\u001b[39m CEnum ───────── v0.2.0\n",
            "\u001b[32m\u001b[1m Installed\u001b[22m\u001b[39m CodeTracking ── v0.5.8\n",
            "\u001b[32m\u001b[1m Installed\u001b[22m\u001b[39m Adapt ───────── v1.0.1\n",
            "\u001b[32m\u001b[1m Installed\u001b[22m\u001b[39m CUDAapi ─────── v4.0.0\n",
            "\u001b[32m\u001b[1m Installed\u001b[22m\u001b[39m CUDAdrv ─────── v6.2.2\n",
            "\u001b[32m\u001b[1m Installed\u001b[22m\u001b[39m CUDAnative ──── v3.0.1\n",
            "\u001b[32m\u001b[1m  Updating\u001b[22m\u001b[39m `~/.julia/environments/v1.3/Project.toml`\n",
            " \u001b[90m [3a865a2d]\u001b[39m\u001b[92m + CuArrays v2.0.1\u001b[39m\n",
            " \u001b[90m [0c68f7d7]\u001b[39m\u001b[92m + GPUArrays v3.1.0\u001b[39m\n",
            "\u001b[32m\u001b[1m  Updating\u001b[22m\u001b[39m `~/.julia/environments/v1.3/Manifest.toml`\n",
            " \u001b[90m [79e6a3ab]\u001b[39m\u001b[92m + Adapt v1.0.1\u001b[39m\n",
            " \u001b[90m [fa961155]\u001b[39m\u001b[92m + CEnum v0.2.0\u001b[39m\n",
            " \u001b[90m [3895d2a7]\u001b[39m\u001b[92m + CUDAapi v4.0.0\u001b[39m\n",
            " \u001b[90m [c5f51814]\u001b[39m\u001b[92m + CUDAdrv v6.2.2\u001b[39m\n",
            " \u001b[90m [be33ccc6]\u001b[39m\u001b[92m + CUDAnative v3.0.1\u001b[39m\n",
            " \u001b[90m [da1fd8a2]\u001b[39m\u001b[92m + CodeTracking v0.5.8\u001b[39m\n",
            " \u001b[90m [34da2185]\u001b[39m\u001b[92m + Compat v2.2.0\u001b[39m\n",
            " \u001b[90m [f68482b8]\u001b[39m\u001b[92m + Cthulhu v1.0.0\u001b[39m\n",
            " \u001b[90m [3a865a2d]\u001b[39m\u001b[92m + CuArrays v2.0.1\u001b[39m\n",
            " \u001b[90m [0c68f7d7]\u001b[39m\u001b[92m + GPUArrays v3.1.0\u001b[39m\n",
            " \u001b[90m [929cbde3]\u001b[39m\u001b[92m + LLVM v1.3.4\u001b[39m\n",
            " \u001b[90m [872c559c]\u001b[39m\u001b[92m + NNlib v0.6.6\u001b[39m\n",
            " \u001b[90m [dc548174]\u001b[39m\u001b[92m + TerminalMenus v0.1.0\u001b[39m\n",
            " \u001b[90m [a759f4b9]\u001b[39m\u001b[92m + TimerOutputs v0.5.3\u001b[39m\n",
            " \u001b[90m [8bb1440f]\u001b[39m\u001b[92m + DelimitedFiles \u001b[39m\n",
            "\u001b[32m\u001b[1m  Building\u001b[22m\u001b[39m NNlib → `~/.julia/packages/NNlib/FAI3o/deps/build.log`\n"
          ],
          "name": "stdout"
        }
      ]
    },
    {
      "cell_type": "code",
      "metadata": {
        "id": "nE5EIoq55fpp",
        "colab_type": "code",
        "colab": {
          "base_uri": "https://localhost:8080/",
          "height": 52
        },
        "outputId": "fa3f1bef-db3a-4c95-eb32-b8c40ea430f2"
      },
      "source": [
        "using CuArrays, GPUArrays"
      ],
      "execution_count": 92,
      "outputs": [
        {
          "output_type": "stream",
          "text": [
            "┌ Info: Precompiling CuArrays [3a865a2d-5b23-5a0f-bc46-62713ec82fae]\n",
            "└ @ Base loading.jl:1273\n"
          ],
          "name": "stderr"
        }
      ]
    },
    {
      "cell_type": "code",
      "metadata": {
        "id": "fwxvdRDR5mJW",
        "colab_type": "code",
        "colab": {}
      },
      "source": [
        "function mandelbrot_plot()\n",
        "  width = 1000\n",
        "  height = 600\n",
        "\n",
        "  max_steps = 50\n",
        "  steps = zeros(Int, (height, width))\n",
        "\n",
        "  cr_min = -2+.5+.3+.2\n",
        "  cr_max = 2.5-.5-.9-.4-.6-.3-.1-.1-.1-.1-.1-.2-.01-.01-.01-.02-.01369-.0089-.00462952-.05\n",
        "\n",
        "  cim_min = -1.2+.5+.25+.16+.02\n",
        "  \n",
        "  range = cr_max - cr_min\n",
        "  dot_size = range/width\n",
        "  cim_max = cim_min + height*dot_size\n",
        "\n",
        "  #println(\"cr: $cr_min - $cr_max\")\n",
        "  #println(\"cr: $cim_min - $cim_max\")\n",
        "\n",
        "  image = zeros(Float64, (3, height, width))\n",
        "  complexes = zeros(ComplexF64, (height, width))\n",
        "  steps = zeros(Int, (height, width))\n",
        "\n",
        "  cu_steps = CuArray(zeros(Int, (height, width)))\n",
        "  \n",
        "\n",
        "  colorscheme = ColorSchemes.inferno\n",
        "  colorscheme_sized = get_cmap(colorscheme, max_steps)\n",
        "  x, y = 1, 1\n",
        "  for cim = cim_min:dot_size:cim_max-dot_size\n",
        "    x = 1\n",
        "    for cr=cr_min:dot_size:cr_max-dot_size\n",
        "      complexes[y,x] = Complex(cr, cim)\n",
        "      x += 1\n",
        "    end\n",
        "    y += 1\n",
        "  end\n",
        "  \n",
        "  cu_complexes = CuArray(complexes)\n",
        "  cu_steps .= steps_count.(cu_complexes, max_steps)\n",
        "  GPUArrays.synchronize(cu_steps)\n",
        "  steps = Array(cu_steps)\n",
        "\n",
        "  image = colorscheme_sized[:, steps]\n",
        "  save(\"test.png\" ,colorview(RGB,image))\n",
        "end  \n",
        "mandelbrot_plot()"
      ],
      "execution_count": 0,
      "outputs": []
    },
    {
      "cell_type": "code",
      "metadata": {
        "id": "QHJ1HobZ6oeD",
        "colab_type": "code",
        "colab": {}
      },
      "source": [
        "mandelbrot_plot()"
      ],
      "execution_count": 0,
      "outputs": []
    },
    {
      "cell_type": "code",
      "metadata": {
        "id": "alFUNHfe70iJ",
        "colab_type": "code",
        "colab": {
          "base_uri": "https://localhost:8080/",
          "height": 34
        },
        "outputId": "8fd2ca96-360e-4af2-e880-b08ee5c5f224"
      },
      "source": [
        ";nvtop"
      ],
      "execution_count": 102,
      "outputs": [
        {
          "output_type": "stream",
          "text": [
            "/bin/bash: nvtop: command not found\n"
          ],
          "name": "stderr"
        }
      ]
    },
    {
      "cell_type": "code",
      "metadata": {
        "id": "Ey1L6U338zSg",
        "colab_type": "code",
        "colab": {}
      },
      "source": [
        ""
      ],
      "execution_count": 0,
      "outputs": []
    }
  ]
}